{
  "nbformat": 4,
  "nbformat_minor": 0,
  "metadata": {
    "colab": {
      "provenance": [],
      "authorship_tag": "ABX9TyNqpbrv2G7MtfgljlQxbGxY",
      "include_colab_link": true
    },
    "kernelspec": {
      "name": "python3",
      "display_name": "Python 3"
    },
    "language_info": {
      "name": "python"
    }
  },
  "cells": [
    {
      "cell_type": "markdown",
      "metadata": {
        "id": "view-in-github",
        "colab_type": "text"
      },
      "source": [
        "<a href=\"https://colab.research.google.com/github/phamngochieu123456/HK_Race/blob/master/HK_Race_2.ipynb\" target=\"_parent\"><img src=\"https://colab.research.google.com/assets/colab-badge.svg\" alt=\"Open In Colab\"/></a>"
      ]
    },
    {
      "cell_type": "markdown",
      "source": [
        "# Import"
      ],
      "metadata": {
        "id": "Dp6ON2pRqPIl"
      }
    },
    {
      "cell_type": "code",
      "execution_count": 223,
      "metadata": {
        "id": "k0igVR9ok-dP"
      },
      "outputs": [],
      "source": [
        "import pandas as pd\n",
        "import numpy as np\n",
        "import tensorflow as tf\n",
        "import sklearn.preprocessing as preprocessing\n",
        "import sklearn.model_selection as model_selection\n",
        "import matplotlib.pyplot as plt\n",
        "import tensorflow as tf\n",
        "from tensorflow.keras.activations import softmax\n",
        "from sklearn.impute import KNNImputer\n",
        "\n",
        "import matplotlib.pyplot as plt\n",
        "import seaborn as sns\n",
        "import plotly.express as px\n",
        "\n",
        "import xgboost as xgb\n",
        "from sklearn.model_selection import GroupShuffleSplit"
      ]
    },
    {
      "cell_type": "markdown",
      "source": [
        "# Base Model"
      ],
      "metadata": {
        "id": "cuDrOnjaqRBL"
      }
    },
    {
      "cell_type": "code",
      "source": [
        "runs_df = pd.read_csv(r\"/content/runs.csv\", delimiter=\",\", header=0)\n",
        "runs_df = runs_df[['race_id', 'draw', 'horse_age', 'horse_country', 'horse_type',\n",
        "                   'horse_rating', 'declared_weight', 'actual_weight', 'win_odds',\n",
        "                   'place_odds', 'result']]\n",
        "drop_index = runs_df[runs_df['race_id'] == 5188].index\n",
        "runs_df = runs_df.drop(drop_index)\n",
        "\n",
        "horse_country_encoder = preprocessing.LabelEncoder()\n",
        "runs_df['horse_country'] = pd.Series(horse_country_encoder.fit_transform(\n",
        "    runs_df['horse_country'][runs_df['horse_country'].notnull()]),\n",
        "                                     index=runs_df['horse_country'][runs_df['horse_country'].notnull()].index)\n",
        "\n",
        "horse_type_encoder = preprocessing.LabelEncoder()\n",
        "runs_df['horse_type'] = pd.Series(horse_type_encoder.fit_transform(\n",
        "    runs_df['horse_type'][runs_df['horse_type'].notnull()]),\n",
        "                                     index=runs_df['horse_type'][runs_df['horse_type'].notnull()].index)\n",
        "\n",
        "imputer = KNNImputer(n_neighbors=20)\n",
        "runs_df_numpy = imputer.fit_transform(runs_df)\n",
        "\n",
        "runs_df = pd.DataFrame(data=runs_df_numpy, columns=runs_df.columns, index=runs_df.index)"
      ],
      "metadata": {
        "id": "vgyWUwMM2fTu"
      },
      "execution_count": 224,
      "outputs": []
    },
    {
      "cell_type": "code",
      "source": [
        "np.where(runs_df.isnull())"
      ],
      "metadata": {
        "colab": {
          "base_uri": "https://localhost:8080/"
        },
        "id": "j1uQf8oshGxb",
        "outputId": "a0b8eea8-7906-4783-b771-175a2a776465"
      },
      "execution_count": 225,
      "outputs": [
        {
          "output_type": "execute_result",
          "data": {
            "text/plain": [
              "(array([], dtype=int64), array([], dtype=int64))"
            ]
          },
          "metadata": {},
          "execution_count": 225
        }
      ]
    },
    {
      "cell_type": "code",
      "source": [],
      "metadata": {
        "id": "uiYMO4osyP8u"
      },
      "execution_count": 172,
      "outputs": []
    },
    {
      "cell_type": "code",
      "source": [
        "races_df = pd.read_csv(r\"/content/races.csv\", delimiter=\",\", header=0)\n",
        "races_df = races_df[['race_id', 'venue', 'config', 'surface', 'distance', 'going', 'race_class']]\n",
        "\n",
        "config_encoder = preprocessing.OrdinalEncoder()\n",
        "races_df['config'] = config_encoder.fit_transform(races_df['config'].values.reshape(-1, 1))\n",
        "going_encoder = preprocessing.OrdinalEncoder()\n",
        "races_df['going'] = going_encoder.fit_transform(races_df['going'].values.reshape(-1, 1))\n",
        "\n",
        "venue_encoder = preprocessing.LabelEncoder()\n",
        "races_df['venue'] = venue_encoder.fit_transform(races_df['venue'])"
      ],
      "metadata": {
        "id": "78N4GESfyP_9"
      },
      "execution_count": 226,
      "outputs": []
    },
    {
      "cell_type": "code",
      "source": [
        "np.where(races_df.isnull())"
      ],
      "metadata": {
        "colab": {
          "base_uri": "https://localhost:8080/"
        },
        "id": "_Ts9jquv0Ftr",
        "outputId": "0b24e9a0-0f3d-4cc8-e79d-a830bdf876d0"
      },
      "execution_count": 227,
      "outputs": [
        {
          "output_type": "execute_result",
          "data": {
            "text/plain": [
              "(array([], dtype=int64), array([], dtype=int64))"
            ]
          },
          "metadata": {},
          "execution_count": 227
        }
      ]
    },
    {
      "cell_type": "code",
      "source": [],
      "metadata": {
        "id": "cL0b6VBG12Zq"
      },
      "execution_count": 174,
      "outputs": []
    },
    {
      "cell_type": "code",
      "source": [
        "data = runs_df.merge(races_df, how='inner', on='race_id')"
      ],
      "metadata": {
        "id": "gEfhUEUMr5zZ"
      },
      "execution_count": 228,
      "outputs": []
    },
    {
      "cell_type": "code",
      "source": [
        "np.where(data.isnull())"
      ],
      "metadata": {
        "colab": {
          "base_uri": "https://localhost:8080/"
        },
        "id": "1GReMixY0Zbs",
        "outputId": "795aef8e-840c-4ff8-9efc-1c91adff4b4c"
      },
      "execution_count": 229,
      "outputs": [
        {
          "output_type": "execute_result",
          "data": {
            "text/plain": [
              "(array([], dtype=int64), array([], dtype=int64))"
            ]
          },
          "metadata": {},
          "execution_count": 229
        }
      ]
    },
    {
      "cell_type": "code",
      "source": [],
      "metadata": {
        "id": "FNFh6Tbt0Teb"
      },
      "execution_count": 176,
      "outputs": []
    },
    {
      "cell_type": "code",
      "source": [
        "use_column = ['race_id', 'result', 'draw']\n",
        "use_column_pre = ['result', 'draw']"
      ],
      "metadata": {
        "id": "L8rN5eLEBwr8"
      },
      "execution_count": 260,
      "outputs": []
    },
    {
      "cell_type": "code",
      "source": [
        "gss = GroupShuffleSplit(test_size=.20, n_splits=1, random_state = 42).split(data, groups=data['race_id'])\n",
        "\n",
        "X_train_inds, X_test_inds = next(gss)\n",
        "\n",
        "train_data= data.iloc[X_train_inds]\n",
        "X_train = train_data.loc[:, ~train_data.columns.isin(use_column)]\n",
        "y_train = train_data.loc[:, train_data.columns.isin(['result'])]\n",
        "\n",
        "groups = train_data.groupby('race_id').size().to_frame('size')['size'].to_numpy()\n",
        "\n",
        "test_data= data.iloc[X_test_inds]\n",
        "\n",
        "X_test = test_data.loc[:, ~test_data.columns.isin(use_column)]\n",
        "y_test = test_data.loc[:, test_data.columns.isin(['result'])]"
      ],
      "metadata": {
        "id": "tMgTrBTWr515"
      },
      "execution_count": 261,
      "outputs": []
    },
    {
      "cell_type": "code",
      "source": [
        "model = xgb.XGBRanker(\n",
        "    booster='gbtree',\n",
        "    objective='rank:pairwise',\n",
        "    random_state=42,\n",
        "    learning_rate=0.1,\n",
        "    colsample_bytree=0.5,\n",
        "    eta=0.05,\n",
        "    max_depth=6,\n",
        "    n_estimators=200,\n",
        "    subsample=0.75\n",
        "    )\n",
        "\n",
        "model.fit(X_train, y_train, group=groups, verbose=True)"
      ],
      "metadata": {
        "colab": {
          "base_uri": "https://localhost:8080/",
          "height": 230
        },
        "id": "PVb-sw2quGCH",
        "outputId": "766909ed-c75f-438a-9295-187bc00a60e7"
      },
      "execution_count": 262,
      "outputs": [
        {
          "output_type": "execute_result",
          "data": {
            "text/plain": [
              "XGBRanker(base_score=None, booster='gbtree', callbacks=None,\n",
              "          colsample_bylevel=None, colsample_bynode=None, colsample_bytree=0.5,\n",
              "          early_stopping_rounds=None, enable_categorical=False, eta=0.05,\n",
              "          eval_metric=None, feature_types=None, gamma=None, gpu_id=None,\n",
              "          grow_policy=None, importance_type=None, interaction_constraints=None,\n",
              "          learning_rate=0.1, max_bin=None, max_cat_threshold=None,\n",
              "          max_cat_to_onehot=None, max_delta_step=None, max_depth=6,\n",
              "          max_leaves=None, min_child_weight=None, missing=nan,\n",
              "          monotone_constraints=None, n_estimators=200, n_jobs=None,\n",
              "          num_parallel_tree=None, predictor=None, ...)"
            ],
            "text/html": [
              "<style>#sk-container-id-22 {color: black;background-color: white;}#sk-container-id-22 pre{padding: 0;}#sk-container-id-22 div.sk-toggleable {background-color: white;}#sk-container-id-22 label.sk-toggleable__label {cursor: pointer;display: block;width: 100%;margin-bottom: 0;padding: 0.3em;box-sizing: border-box;text-align: center;}#sk-container-id-22 label.sk-toggleable__label-arrow:before {content: \"▸\";float: left;margin-right: 0.25em;color: #696969;}#sk-container-id-22 label.sk-toggleable__label-arrow:hover:before {color: black;}#sk-container-id-22 div.sk-estimator:hover label.sk-toggleable__label-arrow:before {color: black;}#sk-container-id-22 div.sk-toggleable__content {max-height: 0;max-width: 0;overflow: hidden;text-align: left;background-color: #f0f8ff;}#sk-container-id-22 div.sk-toggleable__content pre {margin: 0.2em;color: black;border-radius: 0.25em;background-color: #f0f8ff;}#sk-container-id-22 input.sk-toggleable__control:checked~div.sk-toggleable__content {max-height: 200px;max-width: 100%;overflow: auto;}#sk-container-id-22 input.sk-toggleable__control:checked~label.sk-toggleable__label-arrow:before {content: \"▾\";}#sk-container-id-22 div.sk-estimator input.sk-toggleable__control:checked~label.sk-toggleable__label {background-color: #d4ebff;}#sk-container-id-22 div.sk-label input.sk-toggleable__control:checked~label.sk-toggleable__label {background-color: #d4ebff;}#sk-container-id-22 input.sk-hidden--visually {border: 0;clip: rect(1px 1px 1px 1px);clip: rect(1px, 1px, 1px, 1px);height: 1px;margin: -1px;overflow: hidden;padding: 0;position: absolute;width: 1px;}#sk-container-id-22 div.sk-estimator {font-family: monospace;background-color: #f0f8ff;border: 1px dotted black;border-radius: 0.25em;box-sizing: border-box;margin-bottom: 0.5em;}#sk-container-id-22 div.sk-estimator:hover {background-color: #d4ebff;}#sk-container-id-22 div.sk-parallel-item::after {content: \"\";width: 100%;border-bottom: 1px solid gray;flex-grow: 1;}#sk-container-id-22 div.sk-label:hover label.sk-toggleable__label {background-color: #d4ebff;}#sk-container-id-22 div.sk-serial::before {content: \"\";position: absolute;border-left: 1px solid gray;box-sizing: border-box;top: 0;bottom: 0;left: 50%;z-index: 0;}#sk-container-id-22 div.sk-serial {display: flex;flex-direction: column;align-items: center;background-color: white;padding-right: 0.2em;padding-left: 0.2em;position: relative;}#sk-container-id-22 div.sk-item {position: relative;z-index: 1;}#sk-container-id-22 div.sk-parallel {display: flex;align-items: stretch;justify-content: center;background-color: white;position: relative;}#sk-container-id-22 div.sk-item::before, #sk-container-id-22 div.sk-parallel-item::before {content: \"\";position: absolute;border-left: 1px solid gray;box-sizing: border-box;top: 0;bottom: 0;left: 50%;z-index: -1;}#sk-container-id-22 div.sk-parallel-item {display: flex;flex-direction: column;z-index: 1;position: relative;background-color: white;}#sk-container-id-22 div.sk-parallel-item:first-child::after {align-self: flex-end;width: 50%;}#sk-container-id-22 div.sk-parallel-item:last-child::after {align-self: flex-start;width: 50%;}#sk-container-id-22 div.sk-parallel-item:only-child::after {width: 0;}#sk-container-id-22 div.sk-dashed-wrapped {border: 1px dashed gray;margin: 0 0.4em 0.5em 0.4em;box-sizing: border-box;padding-bottom: 0.4em;background-color: white;}#sk-container-id-22 div.sk-label label {font-family: monospace;font-weight: bold;display: inline-block;line-height: 1.2em;}#sk-container-id-22 div.sk-label-container {text-align: center;}#sk-container-id-22 div.sk-container {/* jupyter's `normalize.less` sets `[hidden] { display: none; }` but bootstrap.min.css set `[hidden] { display: none !important; }` so we also need the `!important` here to be able to override the default hidden behavior on the sphinx rendered scikit-learn.org. See: https://github.com/scikit-learn/scikit-learn/issues/21755 */display: inline-block !important;position: relative;}#sk-container-id-22 div.sk-text-repr-fallback {display: none;}</style><div id=\"sk-container-id-22\" class=\"sk-top-container\"><div class=\"sk-text-repr-fallback\"><pre>XGBRanker(base_score=None, booster=&#x27;gbtree&#x27;, callbacks=None,\n",
              "          colsample_bylevel=None, colsample_bynode=None, colsample_bytree=0.5,\n",
              "          early_stopping_rounds=None, enable_categorical=False, eta=0.05,\n",
              "          eval_metric=None, feature_types=None, gamma=None, gpu_id=None,\n",
              "          grow_policy=None, importance_type=None, interaction_constraints=None,\n",
              "          learning_rate=0.1, max_bin=None, max_cat_threshold=None,\n",
              "          max_cat_to_onehot=None, max_delta_step=None, max_depth=6,\n",
              "          max_leaves=None, min_child_weight=None, missing=nan,\n",
              "          monotone_constraints=None, n_estimators=200, n_jobs=None,\n",
              "          num_parallel_tree=None, predictor=None, ...)</pre><b>In a Jupyter environment, please rerun this cell to show the HTML representation or trust the notebook. <br />On GitHub, the HTML representation is unable to render, please try loading this page with nbviewer.org.</b></div><div class=\"sk-container\" hidden><div class=\"sk-item\"><div class=\"sk-estimator sk-toggleable\"><input class=\"sk-toggleable__control sk-hidden--visually\" id=\"sk-estimator-id-22\" type=\"checkbox\" checked><label for=\"sk-estimator-id-22\" class=\"sk-toggleable__label sk-toggleable__label-arrow\">XGBRanker</label><div class=\"sk-toggleable__content\"><pre>XGBRanker(base_score=None, booster=&#x27;gbtree&#x27;, callbacks=None,\n",
              "          colsample_bylevel=None, colsample_bynode=None, colsample_bytree=0.5,\n",
              "          early_stopping_rounds=None, enable_categorical=False, eta=0.05,\n",
              "          eval_metric=None, feature_types=None, gamma=None, gpu_id=None,\n",
              "          grow_policy=None, importance_type=None, interaction_constraints=None,\n",
              "          learning_rate=0.1, max_bin=None, max_cat_threshold=None,\n",
              "          max_cat_to_onehot=None, max_delta_step=None, max_depth=6,\n",
              "          max_leaves=None, min_child_weight=None, missing=nan,\n",
              "          monotone_constraints=None, n_estimators=200, n_jobs=None,\n",
              "          num_parallel_tree=None, predictor=None, ...)</pre></div></div></div></div></div>"
            ]
          },
          "metadata": {},
          "execution_count": 262
        }
      ]
    },
    {
      "cell_type": "code",
      "source": [
        "def predict(model, df):\n",
        "    array = model.predict(df.loc[:, ~df.columns.isin(['race_id'])])\n",
        "    return array.argsort().argsort() + 1"
      ],
      "metadata": {
        "id": "lqjbRko8wNgV"
      },
      "execution_count": 263,
      "outputs": []
    },
    {
      "cell_type": "code",
      "source": [
        "predictions_train = (\n",
        "    train_data.loc[:, ~train_data.columns.isin(use_column_pre)]\n",
        "    .groupby('race_id').apply(lambda x: predict(model, x)))\n",
        "\n",
        "y_true_train = train_data.loc[:, train_data.columns.isin(['race_id', 'result'])]\n",
        "y_true_train = y_true_train.groupby('race_id').apply(lambda x: x['result'].to_numpy(dtype=int))\n",
        "\n",
        "predictions_test = (\n",
        "    test_data.loc[:, ~test_data.columns.isin(use_column_pre)]\n",
        "    .groupby('race_id').apply(lambda x: predict(model, x)))\n",
        "\n",
        "y_true_test = test_data.loc[:, test_data.columns.isin(['race_id', 'result'])]\n",
        "y_true_test = y_true_test.groupby('race_id').apply(lambda x: x['result'].to_numpy(dtype=int))"
      ],
      "metadata": {
        "id": "9361k08fqqaL"
      },
      "execution_count": 264,
      "outputs": []
    },
    {
      "cell_type": "code",
      "source": [
        "def calculate_top3_error(y_true, predictions):\n",
        "    total_races = len(y_true)\n",
        "    correct_predictions = 0\n",
        "\n",
        "    for race_id, true_positions in y_true.items():\n",
        "        true_pos = np.where(true_positions == 1)[0][0]\n",
        "        top3_pred = predictions[race_id].argsort()[:3]\n",
        "        if true_pos in top3_pred:\n",
        "            correct_predictions += 1\n",
        "\n",
        "    top3_error = correct_predictions / total_races\n",
        "    return top3_error"
      ],
      "metadata": {
        "id": "ZJsHX9XHlW7J"
      },
      "execution_count": 265,
      "outputs": []
    },
    {
      "cell_type": "code",
      "source": [
        "top3_error_train = calculate_top3_error(y_true_train, predictions_train)\n",
        "top3_error_test = calculate_top3_error(y_true_test, predictions_test)\n",
        "print(f\"Top-3 Error Train: {top3_error_train:.4f}\")\n",
        "print(f\"Top-3 Error Test: {top3_error_test:.4f}\")"
      ],
      "metadata": {
        "colab": {
          "base_uri": "https://localhost:8080/"
        },
        "id": "txE0sMPZp6ct",
        "outputId": "3e7c260d-e3bf-4ff3-ef13-0f5080f5faa7"
      },
      "execution_count": 266,
      "outputs": [
        {
          "output_type": "stream",
          "name": "stdout",
          "text": [
            "Top-3 Error Train: 0.6165\n",
            "Top-3 Error Test: 0.6102\n"
          ]
        }
      ]
    },
    {
      "cell_type": "code",
      "source": [
        "plt.figure(figsize=(12, 6))\n",
        "df_plt = pd.DataFrame({'feature_name': X_train.columns, 'feature_importance': model.feature_importances_})\n",
        "df_plt.sort_values('feature_importance', ascending=False, inplace=True)\n",
        "sns.barplot(x=\"feature_importance\", y=\"feature_name\", data=df_plt,color='#FF6631')\n",
        "plt.title('feature importance')\n",
        "plt.show()"
      ],
      "metadata": {
        "colab": {
          "base_uri": "https://localhost:8080/",
          "height": 564
        },
        "id": "2NzFwGh8qYBt",
        "outputId": "e9776e95-c5fe-46b2-98f3-0e3e97c33490"
      },
      "execution_count": 267,
      "outputs": [
        {
          "output_type": "display_data",
          "data": {
            "text/plain": [
              "<Figure size 1200x600 with 1 Axes>"
            ],
            "image/png": "[encoded data removed]"
          },
          "metadata": {}
        }
      ]
    },
    {
      "cell_type": "code",
      "source": [],
      "metadata": {
        "id": "pLIzsp82bLFQ"
      },
      "execution_count": 185,
      "outputs": []
    }
  ]
}